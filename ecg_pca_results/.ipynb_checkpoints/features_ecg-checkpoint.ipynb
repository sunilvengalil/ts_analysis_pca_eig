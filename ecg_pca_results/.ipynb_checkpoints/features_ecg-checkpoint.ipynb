{
 "cells": [
  {
   "cell_type": "code",
   "execution_count": 1,
   "metadata": {},
   "outputs": [],
   "source": [
    "import pandas as pd"
   ]
  },
  {
   "cell_type": "code",
   "execution_count": 2,
   "metadata": {},
   "outputs": [
    {
     "data": {
      "text/html": [
       "<div>\n",
       "<style scoped>\n",
       "    .dataframe tbody tr th:only-of-type {\n",
       "        vertical-align: middle;\n",
       "    }\n",
       "\n",
       "    .dataframe tbody tr th {\n",
       "        vertical-align: top;\n",
       "    }\n",
       "\n",
       "    .dataframe thead th {\n",
       "        text-align: right;\n",
       "    }\n",
       "</style>\n",
       "<table border=\"1\" class=\"dataframe\">\n",
       "  <thead>\n",
       "    <tr style=\"text-align: right;\">\n",
       "      <th></th>\n",
       "      <th>Timeseries</th>\n",
       "      <th>Max Eigen Ratio</th>\n",
       "      <th>Variance of Eigen Ratio</th>\n",
       "      <th>Normalized Area Under Eigen Ratio</th>\n",
       "    </tr>\n",
       "  </thead>\n",
       "  <tbody>\n",
       "    <tr>\n",
       "      <th>0</th>\n",
       "      <td>Resamplerate121997b</td>\n",
       "      <td>17.530246</td>\n",
       "      <td>2.117071</td>\n",
       "      <td>26.873460</td>\n",
       "    </tr>\n",
       "    <tr>\n",
       "      <th>1</th>\n",
       "      <td>Resamplerate052099b</td>\n",
       "      <td>312.458514</td>\n",
       "      <td>198.668273</td>\n",
       "      <td>590.274145</td>\n",
       "    </tr>\n",
       "    <tr>\n",
       "      <th>2</th>\n",
       "      <td>Resamplerate011498a</td>\n",
       "      <td>67.675266</td>\n",
       "      <td>118.719655</td>\n",
       "      <td>29.998189</td>\n",
       "    </tr>\n",
       "    <tr>\n",
       "      <th>3</th>\n",
       "      <td>Resamplerate101397b</td>\n",
       "      <td>15.044821</td>\n",
       "      <td>8.135263</td>\n",
       "      <td>20.611006</td>\n",
       "    </tr>\n",
       "  </tbody>\n",
       "</table>\n",
       "</div>"
      ],
      "text/plain": [
       "            Timeseries  Max Eigen Ratio  Variance of Eigen Ratio  \\\n",
       "0  Resamplerate121997b        17.530246                 2.117071   \n",
       "1  Resamplerate052099b       312.458514               198.668273   \n",
       "2  Resamplerate011498a        67.675266               118.719655   \n",
       "3  Resamplerate101397b        15.044821                 8.135263   \n",
       "\n",
       "   Normalized Area Under Eigen Ratio  \n",
       "0                          26.873460  \n",
       "1                         590.274145  \n",
       "2                          29.998189  \n",
       "3                          20.611006  "
      ]
     },
     "execution_count": 2,
     "metadata": {},
     "output_type": "execute_result"
    }
   ],
   "source": [
    "df = pd.read_csv(\"features.csv\")\n",
    "df.head()"
   ]
  },
  {
   "cell_type": "code",
   "execution_count": null,
   "metadata": {},
   "outputs": [],
   "source": []
  }
 ],
 "metadata": {
  "kernelspec": {
   "display_name": "Python 3",
   "language": "python",
   "name": "python3"
  },
  "language_info": {
   "codemirror_mode": {
    "name": "ipython",
    "version": 3
   },
   "file_extension": ".py",
   "mimetype": "text/x-python",
   "name": "python",
   "nbconvert_exporter": "python",
   "pygments_lexer": "ipython3",
   "version": "3.7.9"
  }
 },
 "nbformat": 4,
 "nbformat_minor": 4
}
